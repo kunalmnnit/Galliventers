{
  "nbformat": 4,
  "nbformat_minor": 0,
  "metadata": {
    "colab": {
      "name": "Copy of Coin Classifier",
      "version": "0.3.2",
      "provenance": [],
      "machine_shape": "hm"
    },
    "kernelspec": {
      "name": "python3",
      "display_name": "Python 3"
    },
    "accelerator": "GPU"
  },
  "cells": [
    {
      "cell_type": "markdown",
      "metadata": {
        "id": "6UHlbIrLtWLf",
        "colab_type": "text"
      },
      "source": [
        "# DATA PREPROCESSING AND LOADING"
      ]
    },
    {
      "cell_type": "code",
      "metadata": {
        "id": "TtH2SAHUmtda",
        "colab_type": "code",
        "outputId": "ae2a0720-c51d-4c40-a579-556dededcfa8",
        "colab": {
          "base_uri": "https://localhost:8080/",
          "height": 36
        }
      },
      "source": [
        "from google.colab import drive\n",
        "drive.mount('/content/gdrive')"
      ],
      "execution_count": 2,
      "outputs": [
        {
          "output_type": "stream",
          "text": [
            "Drive already mounted at /content/gdrive; to attempt to forcibly remount, call drive.mount(\"/content/gdrive\", force_remount=True).\n"
          ],
          "name": "stdout"
        }
      ]
    },
    {
      "cell_type": "code",
      "metadata": {
        "id": "1GZ5UH8On-F8",
        "colab_type": "code",
        "colab": {}
      },
      "source": [
        "import os\n",
        "import numpy as np\n",
        "import cv2\n",
        "from tqdm import tqdm"
      ],
      "execution_count": 0,
      "outputs": []
    },
    {
      "cell_type": "code",
      "metadata": {
        "id": "CdH3EV5aqDh1",
        "colab_type": "code",
        "colab": {}
      },
      "source": [
        "base_dir = \"/content/gdrive/My Drive/train\""
      ],
      "execution_count": 0,
      "outputs": []
    },
    {
      "cell_type": "code",
      "metadata": {
        "id": "AFY-wAWIoaez",
        "colab_type": "code",
        "colab": {}
      },
      "source": [
        "train_dataset = os.listdir(\"/content/gdrive/My Drive/train\")"
      ],
      "execution_count": 0,
      "outputs": []
    },
    {
      "cell_type": "code",
      "metadata": {
        "id": "aSMyY-yqnB_6",
        "colab_type": "code",
        "colab": {}
      },
      "source": [
        "def load_data(dataset,val_dir):\n",
        "\n",
        "  coin_paths_val =  [ os.path.join(val_dir,dir)  for dir in dataset]\n",
        "  from collections import defaultdict\n",
        "  country2coins_val = defaultdict(list)\n",
        "  for path in tqdm(coin_paths_val):\n",
        "    country = (((path.split('/'))[-1]).split(','))[-1]\n",
        "    for img in os.listdir(path):\n",
        "      img_path = os.path.join(path,img)\n",
        "      IMG = cv2.imread(img_path)\n",
        "      IMG = cv2.resize(IMG, (224,224))\n",
        "      IMG = np.array(IMG).astype('float32') / 255. \n",
        "      country2coins_val[country].append(IMG)\n",
        "\n",
        "  country_labels_val = []\n",
        "  for key in country2coins_val:\n",
        "    if key not in country_labels_val:\n",
        "      country_labels_val.append(key)\n",
        "\n",
        "  from sklearn.preprocessing import LabelEncoder\n",
        "  le = LabelEncoder()\n",
        "  numeric_labels_val = le.fit_transform(country_labels_val)\n",
        "\n",
        "  label_dict_val = {country_labels_val[i]:numeric_labels_val[i] for i in range(len(country_labels_val))}\n",
        "\n",
        "  X_val = []\n",
        "  Y_categorical_val = []\n",
        "  for key in country2coins_val:\n",
        "    for img in country2coins_val[key]:\n",
        "      X_val.append(img)\n",
        "      Y_categorical_val.append(label_dict_val[key])\n",
        "  import random\n",
        "  combined_val = list(zip(X_val, Y_categorical_val))\n",
        "  random.shuffle(combined_val)\n",
        "  X_val[:], Y_categorical_val[:] = zip(*combined_val)\n",
        "\n",
        "  from keras.utils import to_categorical\n",
        "  Y_val = to_categorical(Y_categorical_val, num_classes = len(country_labels_val))\n",
        "\n",
        "  return X_val, Y_val"
      ],
      "execution_count": 0,
      "outputs": []
    },
    {
      "cell_type": "code",
      "metadata": {
        "id": "4pvNqdIHondY",
        "colab_type": "code",
        "colab": {}
      },
      "source": [
        "coin_paths = [ os.path.join(base_dir,dir)  for dir in train_dataset]"
      ],
      "execution_count": 0,
      "outputs": []
    },
    {
      "cell_type": "code",
      "metadata": {
        "id": "y-6UBkOcrLB3",
        "colab_type": "code",
        "colab": {}
      },
      "source": [
        "from collections import defaultdict\n",
        "\n",
        "country2coins = defaultdict(list)"
      ],
      "execution_count": 0,
      "outputs": []
    },
    {
      "cell_type": "code",
      "metadata": {
        "id": "qGkw7OoNoorA",
        "colab_type": "code",
        "outputId": "76d5b6bf-dd96-46e8-892c-f16a5b754379",
        "colab": {
          "base_uri": "https://localhost:8080/",
          "height": 36
        }
      },
      "source": [
        "\n",
        "for path in tqdm(coin_paths):\n",
        "  country = (((path.split('/'))[-1]).split(','))[-1]\n",
        "  for img in os.listdir(path):\n",
        "    img_path = os.path.join(path,img)\n",
        "    IMG = cv2.imread(img_path)\n",
        "    IMG = cv2.resize(IMG, (224,224))\n",
        "    IMG = np.array(IMG).astype('float32') / 255. \n",
        "    country2coins[country].append(IMG)"
      ],
      "execution_count": 9,
      "outputs": [
        {
          "output_type": "stream",
          "text": [
            "100%|██████████| 211/211 [44:32<00:00, 11.60s/it]\n"
          ],
          "name": "stderr"
        }
      ]
    },
    {
      "cell_type": "code",
      "metadata": {
        "id": "NnhaIza_qLaX",
        "colab_type": "code",
        "colab": {}
      },
      "source": [
        "country_labels = []\n",
        "for key in country2coins:\n",
        "  if key not in country_labels:\n",
        "    country_labels.append(key)\n",
        "\n",
        "from sklearn.preprocessing import LabelEncoder\n",
        "le = LabelEncoder()\n",
        "numeric_labels = le.fit_transform(country_labels)\n",
        "\n",
        "label_dict = {country_labels[i]:numeric_labels[i] for i in range(len(country_labels))}\n"
      ],
      "execution_count": 0,
      "outputs": []
    },
    {
      "cell_type": "code",
      "metadata": {
        "id": "ChgfOoXy_yCS",
        "colab_type": "code",
        "colab": {}
      },
      "source": [
        "reverse_label_dict = {numeric_labels[i]:country_labels[i] for i in range(len(country_labels))}"
      ],
      "execution_count": 0,
      "outputs": []
    },
    {
      "cell_type": "code",
      "metadata": {
        "id": "YVVxDb28yte2",
        "colab_type": "code",
        "colab": {}
      },
      "source": [
        "X = []\n",
        "Y_categorical = []\n",
        "for key in country2coins:\n",
        "  for img in country2coins[key]:\n",
        "    X.append(img)\n",
        "    Y_categorical.append(label_dict[key])"
      ],
      "execution_count": 0,
      "outputs": []
    },
    {
      "cell_type": "code",
      "metadata": {
        "id": "HuJdknoqzrW9",
        "colab_type": "code",
        "outputId": "116f422b-5410-496d-e885-3cf62f40a471",
        "colab": {
          "base_uri": "https://localhost:8080/",
          "height": 286
        }
      },
      "source": [
        "import matplotlib.pyplot as plt\n",
        "\n",
        "plt.imshow(X[3000] , cmap='gray')"
      ],
      "execution_count": 0,
      "outputs": [
        {
          "output_type": "execute_result",
          "data": {
            "text/plain": [
              "<matplotlib.image.AxesImage at 0x7fda1a4af908>"
            ]
          },
          "metadata": {
            "tags": []
          },
          "execution_count": 115
        },
        {
          "output_type": "display_data",
          "data": {
            "image/png": "[encoded data removed]",
            "text/plain": [
              "<Figure size 432x288 with 1 Axes>"
            ]
          },
          "metadata": {
            "tags": []
          }
        }
      ]
    },
    {
      "cell_type": "code",
      "metadata": {
        "id": "kLUoKBMMy-gc",
        "colab_type": "code",
        "colab": {}
      },
      "source": [
        "# randominzing the data\n",
        "import random\n",
        "combined = list(zip(X, Y_categorical))\n",
        "random.shuffle(combined)\n",
        "X[:], Y_categorical[:] = zip(*combined)"
      ],
      "execution_count": 0,
      "outputs": []
    },
    {
      "cell_type": "code",
      "metadata": {
        "id": "7Rfm_Oeg0Yyr",
        "colab_type": "code",
        "colab": {}
      },
      "source": [
        "from keras.utils import to_categorical\n",
        "Y = to_categorical(Y_categorical, num_classes = len(country_labels))"
      ],
      "execution_count": 0,
      "outputs": []
    },
    {
      "cell_type": "code",
      "metadata": {
        "id": "NUaQCIUC0y-5",
        "colab_type": "code",
        "colab": {}
      },
      "source": [
        "# from sklearn.model_selection import train_test_split\n",
        "\n",
        "# X_train, X_test, y_train, y_test = train_test_split(X, Y, test_size=0.2, random_state=42)"
      ],
      "execution_count": 0,
      "outputs": []
    },
    {
      "cell_type": "code",
      "metadata": {
        "id": "UvRqfLBx1QLg",
        "colab_type": "code",
        "colab": {}
      },
      "source": [
        "X_train = np.array(X)\n",
        "y_train = np.array(Y)\n",
        "#X_test  = np.array(X_test)"
      ],
      "execution_count": 0,
      "outputs": []
    },
    {
      "cell_type": "code",
      "metadata": {
        "id": "T116NnhT1X1F",
        "colab_type": "code",
        "outputId": "d6fa82f1-e9f5-480d-abc8-4e8e1f663063",
        "colab": {
          "base_uri": "https://localhost:8080/",
          "height": 50
        }
      },
      "source": [
        "print(\"X_train shape:{}\".format(X_train.shape))\n",
        "print(\"Y_train shape:{}\".format(y_train.shape))\n",
        "#print(\"X_test shape:{}\".format(X_test.shape))\n",
        "#print(\"Y_test shape:{}\".format(y_test.shape))"
      ],
      "execution_count": 0,
      "outputs": [
        {
          "output_type": "stream",
          "text": [
            "X_train shape:(7055, 224, 224, 3)\n",
            "Y_train shape:(7055, 32)\n"
          ],
          "name": "stdout"
        }
      ]
    },
    {
      "cell_type": "markdown",
      "metadata": {
        "id": "CGbwtR-N2uDW",
        "colab_type": "text"
      },
      "source": [
        "# Model Building"
      ]
    },
    {
      "cell_type": "code",
      "metadata": {
        "id": "zJYIHXr_2xVG",
        "colab_type": "code",
        "colab": {}
      },
      "source": [
        "from keras.models import Model\n",
        "from keras.layers import Input, Flatten, Dropout, BatchNormalization\n",
        "from keras.layers import Dense, Conv2D, MaxPooling2D"
      ],
      "execution_count": 0,
      "outputs": []
    },
    {
      "cell_type": "code",
      "metadata": {
        "id": "7EPCwCaq3JSR",
        "colab_type": "code",
        "colab": {}
      },
      "source": [
        "def classifier():\n",
        "  z = Input(shape=(128,128,3))\n",
        "  x = Conv2D(32, kernel_size=(3, 3), activation='relu', input_shape=(128,128,3))(z)\n",
        "  x = BatchNormalization()(x)\n",
        "\n",
        "  x = Conv2D(32, kernel_size=(3, 3), activation='relu')(x)\n",
        "  x = BatchNormalization()(x)\n",
        "  x = MaxPooling2D(pool_size = (2,2))(x)\n",
        "  x = Dropout(0.2)(x)\n",
        "\n",
        "  x = Conv2D(64, kernel_size=(3, 3), activation='relu')(x)\n",
        "  x = BatchNormalization()(x)\n",
        "  x = Dropout(0.2)(x)\n",
        "\n",
        "  x = Conv2D(128, kernel_size=(3, 3), activation='relu')(x)\n",
        "  x = BatchNormalization()(x)\n",
        "  x = MaxPooling2D(pool_size = (2,2))(x)\n",
        "  x = Dropout(0.2)(x)\n",
        "\n",
        "  x = Flatten()(x)\n",
        "  x = Dense(512, activation = 'relu')(x)\n",
        "  x = BatchNormalization()(x)\n",
        "  x = Dropout(0.5)(x)\n",
        "\n",
        "  x = Dense(128, activation = 'relu')(x)\n",
        "  x = BatchNormalization()(x)\n",
        "  x = Dropout(0.5)(x)\n",
        "\n",
        "  output = Dense(32 , activation = 'softmax')(x)\n",
        "\n",
        "  return Model(inputs = z , outputs = output )\n",
        "\n"
      ],
      "execution_count": 0,
      "outputs": []
    },
    {
      "cell_type": "code",
      "metadata": {
        "id": "K1eOQHLoaTv8",
        "colab_type": "code",
        "colab": {}
      },
      "source": [
        "def classifier_256(classifier_128):\n",
        "  from keras.models import Sequential\n",
        "  model = Sequential()\n",
        "  model.add(Conv2D(32 , kernel_size = (3,3), padding = 'same' , activation='relu', input_shape = (256,256,3)))\n",
        "  model.add(BatchNormalization())\n",
        "\n",
        "  # new\n",
        "  model.add(Conv2D(32, kernel_size = (3,3) , padding = 'same', activation = 'relu'))\n",
        "  model.add(BatchNormalization())\n",
        "  model.add(Dropout(0.25))\n",
        "\n",
        "  model.add(Conv2D(32 , kernel_size=(3,3) , padding = 'same' , activation = 'relu')) # newly added\n",
        "  model.add(BatchNormalization())  # newly added\n",
        "  model.add(MaxPooling2D(pool_size = (2,2)))\n",
        "  model.add(Dropout(0.25))   # newly added\n",
        "  model.add(Conv2D(3 , kernel_size = (3,3), padding = 'same' , activation='relu'))\n",
        "  model.add(classifier_128)\n",
        "  \n",
        "  return model"
      ],
      "execution_count": 0,
      "outputs": []
    },
    {
      "cell_type": "code",
      "metadata": {
        "id": "ke7TY1_hbO8h",
        "colab_type": "code",
        "colab": {}
      },
      "source": [
        "from keras.models import load_model\n",
        "\n",
        "classifier_128 = load_model(\"/content/gdrive/My Drive/coin_classifier_85acc.h5\")"
      ],
      "execution_count": 0,
      "outputs": []
    },
    {
      "cell_type": "code",
      "metadata": {
        "id": "DwgeBAGbbb3X",
        "colab_type": "code",
        "colab": {}
      },
      "source": [
        "coin_classifier_256 = classifier_256(classifier_128)"
      ],
      "execution_count": 0,
      "outputs": []
    },
    {
      "cell_type": "code",
      "metadata": {
        "id": "YpptZ1d9b6e6",
        "colab_type": "code",
        "outputId": "c40964c3-cfd9-43ae-bf77-10a405030460",
        "colab": {
          "base_uri": "https://localhost:8080/",
          "height": 521
        }
      },
      "source": [
        "coin_classifier_256.summary()\n",
        "for i,layer in enumerate(coin_classifier_256.layers[10].layers[:15]):\n",
        "  layer.trainable = False"
      ],
      "execution_count": 0,
      "outputs": [
        {
          "output_type": "stream",
          "text": [
            "Model: \"sequential_3\"\n",
            "_________________________________________________________________\n",
            "Layer (type)                 Output Shape              Param #   \n",
            "=================================================================\n",
            "conv2d_9 (Conv2D)            (None, 256, 256, 32)      896       \n",
            "_________________________________________________________________\n",
            "batch_normalization_7 (Batch (None, 256, 256, 32)      128       \n",
            "_________________________________________________________________\n",
            "conv2d_10 (Conv2D)           (None, 256, 256, 32)      9248      \n",
            "_________________________________________________________________\n",
            "batch_normalization_8 (Batch (None, 256, 256, 32)      128       \n",
            "_________________________________________________________________\n",
            "dropout_5 (Dropout)          (None, 256, 256, 32)      0         \n",
            "_________________________________________________________________\n",
            "conv2d_11 (Conv2D)           (None, 256, 256, 32)      9248      \n",
            "_________________________________________________________________\n",
            "batch_normalization_9 (Batch (None, 256, 256, 32)      128       \n",
            "_________________________________________________________________\n",
            "max_pooling2d_3 (MaxPooling2 (None, 128, 128, 32)      0         \n",
            "_________________________________________________________________\n",
            "dropout_6 (Dropout)          (None, 128, 128, 32)      0         \n",
            "_________________________________________________________________\n",
            "conv2d_12 (Conv2D)           (None, 128, 128, 3)       867       \n",
            "_________________________________________________________________\n",
            "model_7 (Model)              (None, 32)                55292160  \n",
            "=================================================================\n",
            "Total params: 55,312,803\n",
            "Trainable params: 55,310,819\n",
            "Non-trainable params: 1,984\n",
            "_________________________________________________________________\n"
          ],
          "name": "stdout"
        }
      ]
    },
    {
      "cell_type": "code",
      "metadata": {
        "id": "XjBRZrxJgizI",
        "colab_type": "code",
        "colab": {}
      },
      "source": [
        "for i,layer in enumerate(coin_classifier_256.layers[10].layers[15:]):\n",
        "  layer.trainable = True\n",
        "\n",
        "for i,layer in enumerate(coin_classifier_256.layers[:10]):\n",
        "  layer.trainable = True\n"
      ],
      "execution_count": 0,
      "outputs": []
    },
    {
      "cell_type": "code",
      "metadata": {
        "id": "D8Fe9vdzgurp",
        "colab_type": "code",
        "colab": {}
      },
      "source": [
        "coin_classifier_256.compile(loss = 'categorical_crossentropy' , optimizer = 'RMSProp' , metrics = ['accuracy'])"
      ],
      "execution_count": 0,
      "outputs": []
    },
    {
      "cell_type": "code",
      "metadata": {
        "id": "8d15cFQkg56I",
        "colab_type": "code",
        "outputId": "6c6ad54a-8157-48d0-9eea-a17bc8f3934a",
        "colab": {
          "base_uri": "https://localhost:8080/",
          "height": 1000
        }
      },
      "source": [
        "coin_classifier_256.fit(X_train, y_train , epochs = 60 , validation_split = 0.1 , batch_size = 16 , shuffle = True)"
      ],
      "execution_count": 0,
      "outputs": [
        {
          "output_type": "stream",
          "text": [
            "Train on 5079 samples, validate on 565 samples\n",
            "Epoch 1/60\n",
            "5079/5079 [==============================] - 101s 20ms/step - loss: 0.1147 - acc: 0.9681 - val_loss: 0.2852 - val_acc: 0.9345\n",
            "Epoch 2/60\n",
            "5079/5079 [==============================] - 101s 20ms/step - loss: 0.0892 - acc: 0.9760 - val_loss: 0.3452 - val_acc: 0.9204\n",
            "Epoch 3/60\n",
            "5079/5079 [==============================] - 101s 20ms/step - loss: 0.0994 - acc: 0.9713 - val_loss: 0.3876 - val_acc: 0.9027\n",
            "Epoch 4/60\n",
            "5079/5079 [==============================] - 101s 20ms/step - loss: 0.0907 - acc: 0.9724 - val_loss: 0.3303 - val_acc: 0.9168\n",
            "Epoch 5/60\n",
            "5079/5079 [==============================] - 101s 20ms/step - loss: 0.0856 - acc: 0.9748 - val_loss: 0.3615 - val_acc: 0.9239\n",
            "Epoch 6/60\n",
            "5079/5079 [==============================] - 101s 20ms/step - loss: 0.0870 - acc: 0.9750 - val_loss: 0.3265 - val_acc: 0.9221\n",
            "Epoch 7/60\n",
            "5079/5079 [==============================] - 101s 20ms/step - loss: 0.0869 - acc: 0.9750 - val_loss: 0.2895 - val_acc: 0.9345\n",
            "Epoch 8/60\n",
            "5079/5079 [==============================] - 101s 20ms/step - loss: 0.0778 - acc: 0.9770 - val_loss: 0.3013 - val_acc: 0.9239\n",
            "Epoch 9/60\n",
            "5079/5079 [==============================] - 102s 20ms/step - loss: 0.0625 - acc: 0.9817 - val_loss: 0.3061 - val_acc: 0.9310\n",
            "Epoch 10/60\n",
            "5079/5079 [==============================] - 102s 20ms/step - loss: 0.0739 - acc: 0.9779 - val_loss: 0.3406 - val_acc: 0.9239\n",
            "Epoch 11/60\n",
            "5079/5079 [==============================] - 102s 20ms/step - loss: 0.0669 - acc: 0.9819 - val_loss: 0.3162 - val_acc: 0.9345\n",
            "Epoch 12/60\n",
            "5079/5079 [==============================] - 101s 20ms/step - loss: 0.0673 - acc: 0.9783 - val_loss: 0.3585 - val_acc: 0.9186\n",
            "Epoch 13/60\n",
            "5079/5079 [==============================] - 102s 20ms/step - loss: 0.0699 - acc: 0.9778 - val_loss: 0.3537 - val_acc: 0.9186\n",
            "Epoch 14/60\n",
            "5079/5079 [==============================] - 102s 20ms/step - loss: 0.0587 - acc: 0.9833 - val_loss: 0.3952 - val_acc: 0.9257\n",
            "Epoch 15/60\n",
            "5079/5079 [==============================] - 101s 20ms/step - loss: 0.0693 - acc: 0.9793 - val_loss: 0.3822 - val_acc: 0.9186\n",
            "Epoch 16/60\n",
            "5079/5079 [==============================] - 101s 20ms/step - loss: 0.0717 - acc: 0.9807 - val_loss: 0.3537 - val_acc: 0.9204\n",
            "Epoch 17/60\n",
            "5079/5079 [==============================] - 101s 20ms/step - loss: 0.0666 - acc: 0.9787 - val_loss: 0.3745 - val_acc: 0.9168\n",
            "Epoch 18/60\n",
            "5079/5079 [==============================] - 101s 20ms/step - loss: 0.0557 - acc: 0.9858 - val_loss: 0.3695 - val_acc: 0.9168\n",
            "Epoch 19/60\n",
            "5079/5079 [==============================] - 101s 20ms/step - loss: 0.0540 - acc: 0.9841 - val_loss: 0.3833 - val_acc: 0.9274\n",
            "Epoch 20/60\n",
            "5079/5079 [==============================] - 101s 20ms/step - loss: 0.0574 - acc: 0.9827 - val_loss: 0.3825 - val_acc: 0.9168\n",
            "Epoch 21/60\n",
            "5079/5079 [==============================] - 101s 20ms/step - loss: 0.0619 - acc: 0.9795 - val_loss: 0.3725 - val_acc: 0.9133\n",
            "Epoch 22/60\n",
            "5079/5079 [==============================] - 101s 20ms/step - loss: 0.0534 - acc: 0.9844 - val_loss: 0.3588 - val_acc: 0.9274\n",
            "Epoch 23/60\n",
            "5079/5079 [==============================] - 101s 20ms/step - loss: 0.0521 - acc: 0.9839 - val_loss: 0.3997 - val_acc: 0.9239\n",
            "Epoch 24/60\n",
            " 272/5079 [>.............................] - ETA: 1:32 - loss: 0.0772 - acc: 0.9779"
          ],
          "name": "stdout"
        },
        {
          "output_type": "error",
          "ename": "KeyboardInterrupt",
          "evalue": "ignored",
          "traceback": [
            "\u001b[0;31m---------------------------------------------------------------------------\u001b[0m",
            "\u001b[0;31mKeyboardInterrupt\u001b[0m                         Traceback (most recent call last)",
            "\u001b[0;32m<ipython-input-57-fd60852a10c3>\u001b[0m in \u001b[0;36m<module>\u001b[0;34m()\u001b[0m\n\u001b[0;32m----> 1\u001b[0;31m \u001b[0mcoin_classifier_256\u001b[0m\u001b[0;34m.\u001b[0m\u001b[0mfit\u001b[0m\u001b[0;34m(\u001b[0m\u001b[0mX_train\u001b[0m\u001b[0;34m,\u001b[0m \u001b[0my_train\u001b[0m \u001b[0;34m,\u001b[0m \u001b[0mepochs\u001b[0m \u001b[0;34m=\u001b[0m \u001b[0;36m60\u001b[0m \u001b[0;34m,\u001b[0m \u001b[0mvalidation_split\u001b[0m \u001b[0;34m=\u001b[0m \u001b[0;36m0.1\u001b[0m \u001b[0;34m,\u001b[0m \u001b[0mbatch_size\u001b[0m \u001b[0;34m=\u001b[0m \u001b[0;36m16\u001b[0m \u001b[0;34m,\u001b[0m \u001b[0mshuffle\u001b[0m \u001b[0;34m=\u001b[0m \u001b[0;32mTrue\u001b[0m\u001b[0;34m)\u001b[0m\u001b[0;34m\u001b[0m\u001b[0;34m\u001b[0m\u001b[0m\n\u001b[0m",
            "\u001b[0;32m/usr/local/lib/python3.6/dist-packages/keras/engine/training.py\u001b[0m in \u001b[0;36mfit\u001b[0;34m(self, x, y, batch_size, epochs, verbose, callbacks, validation_split, validation_data, shuffle, class_weight, sample_weight, initial_epoch, steps_per_epoch, validation_steps, validation_freq, max_queue_size, workers, use_multiprocessing, **kwargs)\u001b[0m\n\u001b[1;32m   1176\u001b[0m                                         \u001b[0msteps_per_epoch\u001b[0m\u001b[0;34m=\u001b[0m\u001b[0msteps_per_epoch\u001b[0m\u001b[0;34m,\u001b[0m\u001b[0;34m\u001b[0m\u001b[0;34m\u001b[0m\u001b[0m\n\u001b[1;32m   1177\u001b[0m                                         \u001b[0mvalidation_steps\u001b[0m\u001b[0;34m=\u001b[0m\u001b[0mvalidation_steps\u001b[0m\u001b[0;34m,\u001b[0m\u001b[0;34m\u001b[0m\u001b[0;34m\u001b[0m\u001b[0m\n\u001b[0;32m-> 1178\u001b[0;31m                                         validation_freq=validation_freq)\n\u001b[0m\u001b[1;32m   1179\u001b[0m \u001b[0;34m\u001b[0m\u001b[0m\n\u001b[1;32m   1180\u001b[0m     def evaluate(self,\n",
            "\u001b[0;32m/usr/local/lib/python3.6/dist-packages/keras/engine/training_arrays.py\u001b[0m in \u001b[0;36mfit_loop\u001b[0;34m(model, fit_function, fit_inputs, out_labels, batch_size, epochs, verbose, callbacks, val_function, val_inputs, shuffle, callback_metrics, initial_epoch, steps_per_epoch, validation_steps, validation_freq)\u001b[0m\n\u001b[1;32m    202\u001b[0m                     \u001b[0mins_batch\u001b[0m\u001b[0;34m[\u001b[0m\u001b[0mi\u001b[0m\u001b[0;34m]\u001b[0m \u001b[0;34m=\u001b[0m \u001b[0mins_batch\u001b[0m\u001b[0;34m[\u001b[0m\u001b[0mi\u001b[0m\u001b[0;34m]\u001b[0m\u001b[0;34m.\u001b[0m\u001b[0mtoarray\u001b[0m\u001b[0;34m(\u001b[0m\u001b[0;34m)\u001b[0m\u001b[0;34m\u001b[0m\u001b[0;34m\u001b[0m\u001b[0m\n\u001b[1;32m    203\u001b[0m \u001b[0;34m\u001b[0m\u001b[0m\n\u001b[0;32m--> 204\u001b[0;31m                 \u001b[0mouts\u001b[0m \u001b[0;34m=\u001b[0m \u001b[0mfit_function\u001b[0m\u001b[0;34m(\u001b[0m\u001b[0mins_batch\u001b[0m\u001b[0;34m)\u001b[0m\u001b[0;34m\u001b[0m\u001b[0;34m\u001b[0m\u001b[0m\n\u001b[0m\u001b[1;32m    205\u001b[0m                 \u001b[0mouts\u001b[0m \u001b[0;34m=\u001b[0m \u001b[0mto_list\u001b[0m\u001b[0;34m(\u001b[0m\u001b[0mouts\u001b[0m\u001b[0;34m)\u001b[0m\u001b[0;34m\u001b[0m\u001b[0;34m\u001b[0m\u001b[0m\n\u001b[1;32m    206\u001b[0m                 \u001b[0;32mfor\u001b[0m \u001b[0ml\u001b[0m\u001b[0;34m,\u001b[0m \u001b[0mo\u001b[0m \u001b[0;32min\u001b[0m \u001b[0mzip\u001b[0m\u001b[0;34m(\u001b[0m\u001b[0mout_labels\u001b[0m\u001b[0;34m,\u001b[0m \u001b[0mouts\u001b[0m\u001b[0;34m)\u001b[0m\u001b[0;34m:\u001b[0m\u001b[0;34m\u001b[0m\u001b[0;34m\u001b[0m\u001b[0m\n",
            "\u001b[0;32m/usr/local/lib/python3.6/dist-packages/keras/backend/tensorflow_backend.py\u001b[0m in \u001b[0;36m__call__\u001b[0;34m(self, inputs)\u001b[0m\n\u001b[1;32m   2977\u001b[0m                     \u001b[0;32mreturn\u001b[0m \u001b[0mself\u001b[0m\u001b[0;34m.\u001b[0m\u001b[0m_legacy_call\u001b[0m\u001b[0;34m(\u001b[0m\u001b[0minputs\u001b[0m\u001b[0;34m)\u001b[0m\u001b[0;34m\u001b[0m\u001b[0;34m\u001b[0m\u001b[0m\n\u001b[1;32m   2978\u001b[0m \u001b[0;34m\u001b[0m\u001b[0m\n\u001b[0;32m-> 2979\u001b[0;31m             \u001b[0;32mreturn\u001b[0m \u001b[0mself\u001b[0m\u001b[0;34m.\u001b[0m\u001b[0m_call\u001b[0m\u001b[0;34m(\u001b[0m\u001b[0minputs\u001b[0m\u001b[0;34m)\u001b[0m\u001b[0;34m\u001b[0m\u001b[0;34m\u001b[0m\u001b[0m\n\u001b[0m\u001b[1;32m   2980\u001b[0m         \u001b[0;32melse\u001b[0m\u001b[0;34m:\u001b[0m\u001b[0;34m\u001b[0m\u001b[0;34m\u001b[0m\u001b[0m\n\u001b[1;32m   2981\u001b[0m             \u001b[0;32mif\u001b[0m \u001b[0mpy_any\u001b[0m\u001b[0;34m(\u001b[0m\u001b[0mis_tensor\u001b[0m\u001b[0;34m(\u001b[0m\u001b[0mx\u001b[0m\u001b[0;34m)\u001b[0m \u001b[0;32mfor\u001b[0m \u001b[0mx\u001b[0m \u001b[0;32min\u001b[0m \u001b[0minputs\u001b[0m\u001b[0;34m)\u001b[0m\u001b[0;34m:\u001b[0m\u001b[0;34m\u001b[0m\u001b[0;34m\u001b[0m\u001b[0m\n",
            "\u001b[0;32m/usr/local/lib/python3.6/dist-packages/keras/backend/tensorflow_backend.py\u001b[0m in \u001b[0;36m_call\u001b[0;34m(self, inputs)\u001b[0m\n\u001b[1;32m   2935\u001b[0m             \u001b[0mfetched\u001b[0m \u001b[0;34m=\u001b[0m \u001b[0mself\u001b[0m\u001b[0;34m.\u001b[0m\u001b[0m_callable_fn\u001b[0m\u001b[0;34m(\u001b[0m\u001b[0;34m*\u001b[0m\u001b[0marray_vals\u001b[0m\u001b[0;34m,\u001b[0m \u001b[0mrun_metadata\u001b[0m\u001b[0;34m=\u001b[0m\u001b[0mself\u001b[0m\u001b[0;34m.\u001b[0m\u001b[0mrun_metadata\u001b[0m\u001b[0;34m)\u001b[0m\u001b[0;34m\u001b[0m\u001b[0;34m\u001b[0m\u001b[0m\n\u001b[1;32m   2936\u001b[0m         \u001b[0;32melse\u001b[0m\u001b[0;34m:\u001b[0m\u001b[0;34m\u001b[0m\u001b[0;34m\u001b[0m\u001b[0m\n\u001b[0;32m-> 2937\u001b[0;31m             \u001b[0mfetched\u001b[0m \u001b[0;34m=\u001b[0m \u001b[0mself\u001b[0m\u001b[0;34m.\u001b[0m\u001b[0m_callable_fn\u001b[0m\u001b[0;34m(\u001b[0m\u001b[0;34m*\u001b[0m\u001b[0marray_vals\u001b[0m\u001b[0;34m)\u001b[0m\u001b[0;34m\u001b[0m\u001b[0;34m\u001b[0m\u001b[0m\n\u001b[0m\u001b[1;32m   2938\u001b[0m         \u001b[0;32mreturn\u001b[0m \u001b[0mfetched\u001b[0m\u001b[0;34m[\u001b[0m\u001b[0;34m:\u001b[0m\u001b[0mlen\u001b[0m\u001b[0;34m(\u001b[0m\u001b[0mself\u001b[0m\u001b[0;34m.\u001b[0m\u001b[0moutputs\u001b[0m\u001b[0;34m)\u001b[0m\u001b[0;34m]\u001b[0m\u001b[0;34m\u001b[0m\u001b[0;34m\u001b[0m\u001b[0m\n\u001b[1;32m   2939\u001b[0m \u001b[0;34m\u001b[0m\u001b[0m\n",
            "\u001b[0;32m/usr/local/lib/python3.6/dist-packages/tensorflow/python/client/session.py\u001b[0m in \u001b[0;36m__call__\u001b[0;34m(self, *args, **kwargs)\u001b[0m\n\u001b[1;32m   1456\u001b[0m         ret = tf_session.TF_SessionRunCallable(self._session._session,\n\u001b[1;32m   1457\u001b[0m                                                \u001b[0mself\u001b[0m\u001b[0;34m.\u001b[0m\u001b[0m_handle\u001b[0m\u001b[0;34m,\u001b[0m \u001b[0margs\u001b[0m\u001b[0;34m,\u001b[0m\u001b[0;34m\u001b[0m\u001b[0;34m\u001b[0m\u001b[0m\n\u001b[0;32m-> 1458\u001b[0;31m                                                run_metadata_ptr)\n\u001b[0m\u001b[1;32m   1459\u001b[0m         \u001b[0;32mif\u001b[0m \u001b[0mrun_metadata\u001b[0m\u001b[0;34m:\u001b[0m\u001b[0;34m\u001b[0m\u001b[0;34m\u001b[0m\u001b[0m\n\u001b[1;32m   1460\u001b[0m           \u001b[0mproto_data\u001b[0m \u001b[0;34m=\u001b[0m \u001b[0mtf_session\u001b[0m\u001b[0;34m.\u001b[0m\u001b[0mTF_GetBuffer\u001b[0m\u001b[0;34m(\u001b[0m\u001b[0mrun_metadata_ptr\u001b[0m\u001b[0;34m)\u001b[0m\u001b[0;34m\u001b[0m\u001b[0;34m\u001b[0m\u001b[0m\n",
            "\u001b[0;31mKeyboardInterrupt\u001b[0m: "
          ]
        }
      ]
    },
    {
      "cell_type": "code",
      "metadata": {
        "id": "BV64iNA149mY",
        "colab_type": "code",
        "colab": {}
      },
      "source": [
        "import tensorflow as tf\n",
        "coin_classifier = classifier()\n",
        "coin_classifier.compile(loss = 'categorical_crossentropy' , optimizer = 'adam' , metrics = ['accuracy'])"
      ],
      "execution_count": 0,
      "outputs": []
    },
    {
      "cell_type": "code",
      "metadata": {
        "id": "gkCWj-3n5rX9",
        "colab_type": "code",
        "colab": {}
      },
      "source": [
        "coin_classifier.fit(X_train, y_train , epochs = 30 , validation_split = 0.1 , batch_size = 16 , shuffle = True)"
      ],
      "execution_count": 0,
      "outputs": []
    },
    {
      "cell_type": "code",
      "metadata": {
        "id": "TUAmS9_86Fdg",
        "colab_type": "code",
        "outputId": "b79c4578-9901-4c0c-ce0c-fa8d47eada6c",
        "colab": {
          "base_uri": "https://localhost:8080/",
          "height": 34
        }
      },
      "source": [
        "loss, accuracy = coin_classifier_256.evaluate(X_test, y_test)"
      ],
      "execution_count": 0,
      "outputs": [
        {
          "output_type": "stream",
          "text": [
            "1411/1411 [==============================] - 9s 6ms/step\n"
          ],
          "name": "stdout"
        }
      ]
    },
    {
      "cell_type": "code",
      "metadata": {
        "id": "xzueQlhs9u1E",
        "colab_type": "code",
        "outputId": "1de6da77-46cb-4be2-c197-09e65443f1de",
        "colab": {
          "base_uri": "https://localhost:8080/",
          "height": 50
        }
      },
      "source": [
        "print(\"Test LOSS:{}\".format(loss))\n",
        "print(\"Test Accuracy:{}\".format(accuracy*100))"
      ],
      "execution_count": 0,
      "outputs": [
        {
          "output_type": "stream",
          "text": [
            "Test LOSS:0.5209057128757544\n",
            "Test Accuracy:89.79447200566973\n"
          ],
          "name": "stdout"
        }
      ]
    },
    {
      "cell_type": "code",
      "metadata": {
        "id": "WzESAROk9yL_",
        "colab_type": "code",
        "colab": {}
      },
      "source": [
        "y_pred = coin_classifier.predict(X_test)"
      ],
      "execution_count": 0,
      "outputs": []
    },
    {
      "cell_type": "code",
      "metadata": {
        "id": "PYo76HnV-xiJ",
        "colab_type": "code",
        "colab": {}
      },
      "source": [
        "y_pred_labels = []\n",
        "y_test_labels = []\n",
        "for y in y_pred:\n",
        "  y_pred_labels.append(((np.where(y == y.max()))[0][0]))\n",
        "\n",
        "for y in y_test:\n",
        "  y_test_labels.append(((np.where(y == y.max()))[0][0]))"
      ],
      "execution_count": 0,
      "outputs": []
    },
    {
      "cell_type": "code",
      "metadata": {
        "id": "Ofk-wP_K-67P",
        "colab_type": "code",
        "colab": {}
      },
      "source": [
        "predictions = []\n",
        "for label in y_pred_labels:\n",
        "  predictions.append(reverse_label_dict[label])\n",
        "\n"
      ],
      "execution_count": 0,
      "outputs": []
    },
    {
      "cell_type": "markdown",
      "metadata": {
        "id": "0wGaUvmrnTOS",
        "colab_type": "text"
      },
      "source": [
        "# VGG-19\n"
      ]
    },
    {
      "cell_type": "code",
      "metadata": {
        "id": "AaFq_FyZna1Q",
        "colab_type": "code",
        "colab": {}
      },
      "source": [
        "from keras.applications.vgg19 import VGG19\n",
        "from keras.models import Sequential"
      ],
      "execution_count": 0,
      "outputs": []
    },
    {
      "cell_type": "code",
      "metadata": {
        "id": "LZVpODw1njOX",
        "colab_type": "code",
        "colab": {}
      },
      "source": [
        "vgg_19_model = VGG19(include_top=False, weights='imagenet', input_shape=(224,224,3), pooling='avg')"
      ],
      "execution_count": 0,
      "outputs": []
    },
    {
      "cell_type": "code",
      "metadata": {
        "id": "0PFIoI7uoOeq",
        "colab_type": "code",
        "outputId": "df173b92-b434-4804-879e-d9dd75d24fac",
        "colab": {
          "base_uri": "https://localhost:8080/",
          "height": 924
        }
      },
      "source": [
        "vgg_19_model.summary()"
      ],
      "execution_count": 0,
      "outputs": [
        {
          "output_type": "stream",
          "text": [
            "Model: \"vgg19\"\n",
            "_________________________________________________________________\n",
            "Layer (type)                 Output Shape              Param #   \n",
            "=================================================================\n",
            "input_5 (InputLayer)         (None, 224, 224, 3)       0         \n",
            "_________________________________________________________________\n",
            "block1_conv1 (Conv2D)        (None, 224, 224, 64)      1792      \n",
            "_________________________________________________________________\n",
            "block1_conv2 (Conv2D)        (None, 224, 224, 64)      36928     \n",
            "_________________________________________________________________\n",
            "block1_pool (MaxPooling2D)   (None, 112, 112, 64)      0         \n",
            "_________________________________________________________________\n",
            "block2_conv1 (Conv2D)        (None, 112, 112, 128)     73856     \n",
            "_________________________________________________________________\n",
            "block2_conv2 (Conv2D)        (None, 112, 112, 128)     147584    \n",
            "_________________________________________________________________\n",
            "block2_pool (MaxPooling2D)   (None, 56, 56, 128)       0         \n",
            "_________________________________________________________________\n",
            "block3_conv1 (Conv2D)        (None, 56, 56, 256)       295168    \n",
            "_________________________________________________________________\n",
            "block3_conv2 (Conv2D)        (None, 56, 56, 256)       590080    \n",
            "_________________________________________________________________\n",
            "block3_conv3 (Conv2D)        (None, 56, 56, 256)       590080    \n",
            "_________________________________________________________________\n",
            "block3_conv4 (Conv2D)        (None, 56, 56, 256)       590080    \n",
            "_________________________________________________________________\n",
            "block3_pool (MaxPooling2D)   (None, 28, 28, 256)       0         \n",
            "_________________________________________________________________\n",
            "block4_conv1 (Conv2D)        (None, 28, 28, 512)       1180160   \n",
            "_________________________________________________________________\n",
            "block4_conv2 (Conv2D)        (None, 28, 28, 512)       2359808   \n",
            "_________________________________________________________________\n",
            "block4_conv3 (Conv2D)        (None, 28, 28, 512)       2359808   \n",
            "_________________________________________________________________\n",
            "block4_conv4 (Conv2D)        (None, 28, 28, 512)       2359808   \n",
            "_________________________________________________________________\n",
            "block4_pool (MaxPooling2D)   (None, 14, 14, 512)       0         \n",
            "_________________________________________________________________\n",
            "block5_conv1 (Conv2D)        (None, 14, 14, 512)       2359808   \n",
            "_________________________________________________________________\n",
            "block5_conv2 (Conv2D)        (None, 14, 14, 512)       2359808   \n",
            "_________________________________________________________________\n",
            "block5_conv3 (Conv2D)        (None, 14, 14, 512)       2359808   \n",
            "_________________________________________________________________\n",
            "block5_conv4 (Conv2D)        (None, 14, 14, 512)       2359808   \n",
            "_________________________________________________________________\n",
            "block5_pool (MaxPooling2D)   (None, 7, 7, 512)         0         \n",
            "_________________________________________________________________\n",
            "global_average_pooling2d_4 ( (None, 512)               0         \n",
            "=================================================================\n",
            "Total params: 20,024,384\n",
            "Trainable params: 20,024,384\n",
            "Non-trainable params: 0\n",
            "_________________________________________________________________\n"
          ],
          "name": "stdout"
        }
      ]
    },
    {
      "cell_type": "code",
      "metadata": {
        "id": "l9AFeJttnw8W",
        "colab_type": "code",
        "colab": {}
      },
      "source": [
        "def vgg_19_classifier(base):\n",
        "  model = Sequential()\n",
        "  model.add(base)\n",
        "  \n",
        "  model.add(Dense(256, activation = 'relu'))\n",
        "  model.add(BatchNormalization())\n",
        "  #model.add(Dropout(0.25))\n",
        "\n",
        "  model.add(Dense(128, activation = 'relu'))\n",
        "  model.add(BatchNormalization())\n",
        "  #model.add(Dropout(0.25))\n",
        "\n",
        "  model.add(Dense(32, activation = 'softmax'))\n",
        "  return model"
      ],
      "execution_count": 0,
      "outputs": []
    },
    {
      "cell_type": "code",
      "metadata": {
        "id": "lvAvvLqDoq3v",
        "colab_type": "code",
        "colab": {}
      },
      "source": [
        "cls = vgg_19_classifier(vgg_19_model)"
      ],
      "execution_count": 0,
      "outputs": []
    },
    {
      "cell_type": "code",
      "metadata": {
        "id": "kuquK74CpdQy",
        "colab_type": "code",
        "outputId": "3fa7dc95-c974-47f6-abd2-114153377771",
        "colab": {
          "base_uri": "https://localhost:8080/",
          "height": 420
        }
      },
      "source": [
        "cls.summary()"
      ],
      "execution_count": 0,
      "outputs": [
        {
          "output_type": "stream",
          "text": [
            "Model: \"sequential_5\"\n",
            "_________________________________________________________________\n",
            "Layer (type)                 Output Shape              Param #   \n",
            "=================================================================\n",
            "vgg19 (Model)                (None, 512)               20024384  \n",
            "_________________________________________________________________\n",
            "dense_11 (Dense)             (None, 256)               131328    \n",
            "_________________________________________________________________\n",
            "batch_normalization_7 (Batch (None, 256)               1024      \n",
            "_________________________________________________________________\n",
            "dropout_7 (Dropout)          (None, 256)               0         \n",
            "_________________________________________________________________\n",
            "dense_12 (Dense)             (None, 128)               32896     \n",
            "_________________________________________________________________\n",
            "batch_normalization_8 (Batch (None, 128)               512       \n",
            "_________________________________________________________________\n",
            "dropout_8 (Dropout)          (None, 128)               0         \n",
            "_________________________________________________________________\n",
            "dense_13 (Dense)             (None, 32)                4128      \n",
            "=================================================================\n",
            "Total params: 20,194,272\n",
            "Trainable params: 20,193,504\n",
            "Non-trainable params: 768\n",
            "_________________________________________________________________\n"
          ],
          "name": "stdout"
        }
      ]
    },
    {
      "cell_type": "code",
      "metadata": {
        "id": "oCJGlEECpgks",
        "colab_type": "code",
        "outputId": "b2fe543d-f1ef-4e73-acac-771bef81dc1c",
        "colab": {
          "base_uri": "https://localhost:8080/",
          "height": 403
        }
      },
      "source": [
        "for i,layer in enumerate(cls.layers[0].layers):\n",
        "  print(i,layer.name)"
      ],
      "execution_count": 0,
      "outputs": [
        {
          "output_type": "stream",
          "text": [
            "0 input_5\n",
            "1 block1_conv1\n",
            "2 block1_conv2\n",
            "3 block1_pool\n",
            "4 block2_conv1\n",
            "5 block2_conv2\n",
            "6 block2_pool\n",
            "7 block3_conv1\n",
            "8 block3_conv2\n",
            "9 block3_conv3\n",
            "10 block3_conv4\n",
            "11 block3_pool\n",
            "12 block4_conv1\n",
            "13 block4_conv2\n",
            "14 block4_conv3\n",
            "15 block4_conv4\n",
            "16 block4_pool\n",
            "17 block5_conv1\n",
            "18 block5_conv2\n",
            "19 block5_conv3\n",
            "20 block5_conv4\n",
            "21 block5_pool\n",
            "22 global_average_pooling2d_4\n"
          ],
          "name": "stdout"
        }
      ]
    },
    {
      "cell_type": "code",
      "metadata": {
        "id": "Clgq4An_pgik",
        "colab_type": "code",
        "colab": {}
      },
      "source": [
        "for layer in cls.layers[0].layers[:16]:\n",
        "  layer.trainable = False\n",
        "for layer in cls.layers[0].layers[16:]:\n",
        "  layer.trainable = True\n",
        "for layer in cls.layers[1:]:\n",
        "  layer.trainable = True"
      ],
      "execution_count": 0,
      "outputs": []
    },
    {
      "cell_type": "code",
      "metadata": {
        "id": "JJ43wNmBpgWI",
        "colab_type": "code",
        "colab": {}
      },
      "source": [
        "from keras.optimizers import Nadam, RMSprop\n",
        "opt = RMSprop(lr=0.0002)"
      ],
      "execution_count": 0,
      "outputs": []
    },
    {
      "cell_type": "code",
      "metadata": {
        "id": "-hu8dRaLsCjs",
        "colab_type": "code",
        "colab": {}
      },
      "source": [
        "cls.compile(loss='categorical_crossentropy', optimizer=opt, metrics=['accuracy'])"
      ],
      "execution_count": 0,
      "outputs": []
    },
    {
      "cell_type": "code",
      "metadata": {
        "id": "3a-CfhthshPo",
        "colab_type": "code",
        "outputId": "e3160643-cc77-40e0-b724-e0bb37aba204",
        "colab": {
          "base_uri": "https://localhost:8080/",
          "height": 992
        }
      },
      "source": [
        "cls.fit(X_train, y_train, validation_split=0.1, epochs=50, batch_size=16)"
      ],
      "execution_count": 0,
      "outputs": [
        {
          "output_type": "stream",
          "text": [
            "Train on 6349 samples, validate on 706 samples\n",
            "Epoch 1/50\n",
            "6349/6349 [==============================] - 101s 16ms/step - loss: 3.7042 - acc: 0.0775 - val_loss: 14.9232 - val_acc: 0.0354\n",
            "Epoch 2/50\n",
            "6349/6349 [==============================] - 97s 15ms/step - loss: 2.8089 - acc: 0.2523 - val_loss: 9.2945 - val_acc: 0.1317\n",
            "Epoch 3/50\n",
            "6349/6349 [==============================] - 97s 15ms/step - loss: 2.1010 - acc: 0.4186 - val_loss: 11.7091 - val_acc: 0.0453\n",
            "Epoch 4/50\n",
            "6349/6349 [==============================] - 97s 15ms/step - loss: 1.6059 - acc: 0.5669 - val_loss: 12.9715 - val_acc: 0.0694\n",
            "Epoch 5/50\n",
            "6349/6349 [==============================] - 97s 15ms/step - loss: 1.1939 - acc: 0.6885 - val_loss: 5.5427 - val_acc: 0.1360\n",
            "Epoch 6/50\n",
            "6349/6349 [==============================] - 97s 15ms/step - loss: 0.9152 - acc: 0.7721 - val_loss: 4.0997 - val_acc: 0.2776\n",
            "Epoch 7/50\n",
            "6349/6349 [==============================] - 97s 15ms/step - loss: 0.6655 - acc: 0.8471 - val_loss: 1.6290 - val_acc: 0.6048\n",
            "Epoch 8/50\n",
            "6349/6349 [==============================] - 97s 15ms/step - loss: 0.5217 - acc: 0.8770 - val_loss: 5.1317 - val_acc: 0.2195\n",
            "Epoch 9/50\n",
            "6349/6349 [==============================] - 97s 15ms/step - loss: 0.3925 - acc: 0.9105 - val_loss: 2.6427 - val_acc: 0.4448\n",
            "Epoch 10/50\n",
            "6349/6349 [==============================] - 97s 15ms/step - loss: 0.3267 - acc: 0.9252 - val_loss: 5.2342 - val_acc: 0.3329\n",
            "Epoch 11/50\n",
            "6349/6349 [==============================] - 97s 15ms/step - loss: 0.2603 - acc: 0.9409 - val_loss: 2.3780 - val_acc: 0.4164\n",
            "Epoch 12/50\n",
            "6349/6349 [==============================] - 97s 15ms/step - loss: 0.1916 - acc: 0.9598 - val_loss: 1.7717 - val_acc: 0.5354\n",
            "Epoch 13/50\n",
            "6349/6349 [==============================] - 96s 15ms/step - loss: 0.1877 - acc: 0.9575 - val_loss: 4.6409 - val_acc: 0.2606\n",
            "Epoch 14/50\n",
            "6349/6349 [==============================] - 96s 15ms/step - loss: 0.1557 - acc: 0.9638 - val_loss: 2.1652 - val_acc: 0.5071\n",
            "Epoch 15/50\n",
            "6349/6349 [==============================] - 96s 15ms/step - loss: 0.1281 - acc: 0.9716 - val_loss: 2.7477 - val_acc: 0.4462\n",
            "Epoch 16/50\n",
            "6349/6349 [==============================] - 96s 15ms/step - loss: 0.1047 - acc: 0.9773 - val_loss: 1.1850 - val_acc: 0.7550\n",
            "Epoch 17/50\n",
            "6349/6349 [==============================] - 96s 15ms/step - loss: 0.1181 - acc: 0.9729 - val_loss: 2.3003 - val_acc: 0.4476\n",
            "Epoch 18/50\n",
            "6349/6349 [==============================] - 96s 15ms/step - loss: 0.0930 - acc: 0.9787 - val_loss: 1.8022 - val_acc: 0.6204\n",
            "Epoch 19/50\n",
            "6349/6349 [==============================] - 96s 15ms/step - loss: 0.0738 - acc: 0.9827 - val_loss: 1.4876 - val_acc: 0.6615\n",
            "Epoch 20/50\n",
            "1952/6349 [========>.....................] - ETA: 1:00 - loss: 0.0656 - acc: 0.9841"
          ],
          "name": "stdout"
        },
        {
          "output_type": "error",
          "ename": "KeyboardInterrupt",
          "evalue": "ignored",
          "traceback": [
            "\u001b[0;31m---------------------------------------------------------------------------\u001b[0m",
            "\u001b[0;31mKeyboardInterrupt\u001b[0m                         Traceback (most recent call last)",
            "\u001b[0;32m<ipython-input-161-e343e0923ff1>\u001b[0m in \u001b[0;36m<module>\u001b[0;34m()\u001b[0m\n\u001b[0;32m----> 1\u001b[0;31m \u001b[0mcls\u001b[0m\u001b[0;34m.\u001b[0m\u001b[0mfit\u001b[0m\u001b[0;34m(\u001b[0m\u001b[0mX_train\u001b[0m\u001b[0;34m,\u001b[0m \u001b[0my_train\u001b[0m\u001b[0;34m,\u001b[0m \u001b[0mvalidation_split\u001b[0m\u001b[0;34m=\u001b[0m\u001b[0;36m0.1\u001b[0m\u001b[0;34m,\u001b[0m \u001b[0mepochs\u001b[0m\u001b[0;34m=\u001b[0m\u001b[0;36m50\u001b[0m\u001b[0;34m,\u001b[0m \u001b[0mbatch_size\u001b[0m\u001b[0;34m=\u001b[0m\u001b[0;36m16\u001b[0m\u001b[0;34m)\u001b[0m\u001b[0;34m\u001b[0m\u001b[0;34m\u001b[0m\u001b[0m\n\u001b[0m",
            "\u001b[0;32m/usr/local/lib/python3.6/dist-packages/keras/engine/training.py\u001b[0m in \u001b[0;36mfit\u001b[0;34m(self, x, y, batch_size, epochs, verbose, callbacks, validation_split, validation_data, shuffle, class_weight, sample_weight, initial_epoch, steps_per_epoch, validation_steps, validation_freq, max_queue_size, workers, use_multiprocessing, **kwargs)\u001b[0m\n\u001b[1;32m   1176\u001b[0m                                         \u001b[0msteps_per_epoch\u001b[0m\u001b[0;34m=\u001b[0m\u001b[0msteps_per_epoch\u001b[0m\u001b[0;34m,\u001b[0m\u001b[0;34m\u001b[0m\u001b[0;34m\u001b[0m\u001b[0m\n\u001b[1;32m   1177\u001b[0m                                         \u001b[0mvalidation_steps\u001b[0m\u001b[0;34m=\u001b[0m\u001b[0mvalidation_steps\u001b[0m\u001b[0;34m,\u001b[0m\u001b[0;34m\u001b[0m\u001b[0;34m\u001b[0m\u001b[0m\n\u001b[0;32m-> 1178\u001b[0;31m                                         validation_freq=validation_freq)\n\u001b[0m\u001b[1;32m   1179\u001b[0m \u001b[0;34m\u001b[0m\u001b[0m\n\u001b[1;32m   1180\u001b[0m     def evaluate(self,\n",
            "\u001b[0;32m/usr/local/lib/python3.6/dist-packages/keras/engine/training_arrays.py\u001b[0m in \u001b[0;36mfit_loop\u001b[0;34m(model, fit_function, fit_inputs, out_labels, batch_size, epochs, verbose, callbacks, val_function, val_inputs, shuffle, callback_metrics, initial_epoch, steps_per_epoch, validation_steps, validation_freq)\u001b[0m\n\u001b[1;32m    202\u001b[0m                     \u001b[0mins_batch\u001b[0m\u001b[0;34m[\u001b[0m\u001b[0mi\u001b[0m\u001b[0;34m]\u001b[0m \u001b[0;34m=\u001b[0m \u001b[0mins_batch\u001b[0m\u001b[0;34m[\u001b[0m\u001b[0mi\u001b[0m\u001b[0;34m]\u001b[0m\u001b[0;34m.\u001b[0m\u001b[0mtoarray\u001b[0m\u001b[0;34m(\u001b[0m\u001b[0;34m)\u001b[0m\u001b[0;34m\u001b[0m\u001b[0;34m\u001b[0m\u001b[0m\n\u001b[1;32m    203\u001b[0m \u001b[0;34m\u001b[0m\u001b[0m\n\u001b[0;32m--> 204\u001b[0;31m                 \u001b[0mouts\u001b[0m \u001b[0;34m=\u001b[0m \u001b[0mfit_function\u001b[0m\u001b[0;34m(\u001b[0m\u001b[0mins_batch\u001b[0m\u001b[0;34m)\u001b[0m\u001b[0;34m\u001b[0m\u001b[0;34m\u001b[0m\u001b[0m\n\u001b[0m\u001b[1;32m    205\u001b[0m                 \u001b[0mouts\u001b[0m \u001b[0;34m=\u001b[0m \u001b[0mto_list\u001b[0m\u001b[0;34m(\u001b[0m\u001b[0mouts\u001b[0m\u001b[0;34m)\u001b[0m\u001b[0;34m\u001b[0m\u001b[0;34m\u001b[0m\u001b[0m\n\u001b[1;32m    206\u001b[0m                 \u001b[0;32mfor\u001b[0m \u001b[0ml\u001b[0m\u001b[0;34m,\u001b[0m \u001b[0mo\u001b[0m \u001b[0;32min\u001b[0m \u001b[0mzip\u001b[0m\u001b[0;34m(\u001b[0m\u001b[0mout_labels\u001b[0m\u001b[0;34m,\u001b[0m \u001b[0mouts\u001b[0m\u001b[0;34m)\u001b[0m\u001b[0;34m:\u001b[0m\u001b[0;34m\u001b[0m\u001b[0;34m\u001b[0m\u001b[0m\n",
            "\u001b[0;32m/usr/local/lib/python3.6/dist-packages/keras/backend/tensorflow_backend.py\u001b[0m in \u001b[0;36m__call__\u001b[0;34m(self, inputs)\u001b[0m\n\u001b[1;32m   2977\u001b[0m                     \u001b[0;32mreturn\u001b[0m \u001b[0mself\u001b[0m\u001b[0;34m.\u001b[0m\u001b[0m_legacy_call\u001b[0m\u001b[0;34m(\u001b[0m\u001b[0minputs\u001b[0m\u001b[0;34m)\u001b[0m\u001b[0;34m\u001b[0m\u001b[0;34m\u001b[0m\u001b[0m\n\u001b[1;32m   2978\u001b[0m \u001b[0;34m\u001b[0m\u001b[0m\n\u001b[0;32m-> 2979\u001b[0;31m             \u001b[0;32mreturn\u001b[0m \u001b[0mself\u001b[0m\u001b[0;34m.\u001b[0m\u001b[0m_call\u001b[0m\u001b[0;34m(\u001b[0m\u001b[0minputs\u001b[0m\u001b[0;34m)\u001b[0m\u001b[0;34m\u001b[0m\u001b[0;34m\u001b[0m\u001b[0m\n\u001b[0m\u001b[1;32m   2980\u001b[0m         \u001b[0;32melse\u001b[0m\u001b[0;34m:\u001b[0m\u001b[0;34m\u001b[0m\u001b[0;34m\u001b[0m\u001b[0m\n\u001b[1;32m   2981\u001b[0m             \u001b[0;32mif\u001b[0m \u001b[0mpy_any\u001b[0m\u001b[0;34m(\u001b[0m\u001b[0mis_tensor\u001b[0m\u001b[0;34m(\u001b[0m\u001b[0mx\u001b[0m\u001b[0;34m)\u001b[0m \u001b[0;32mfor\u001b[0m \u001b[0mx\u001b[0m \u001b[0;32min\u001b[0m \u001b[0minputs\u001b[0m\u001b[0;34m)\u001b[0m\u001b[0;34m:\u001b[0m\u001b[0;34m\u001b[0m\u001b[0;34m\u001b[0m\u001b[0m\n",
            "\u001b[0;32m/usr/local/lib/python3.6/dist-packages/keras/backend/tensorflow_backend.py\u001b[0m in \u001b[0;36m_call\u001b[0;34m(self, inputs)\u001b[0m\n\u001b[1;32m   2935\u001b[0m             \u001b[0mfetched\u001b[0m \u001b[0;34m=\u001b[0m \u001b[0mself\u001b[0m\u001b[0;34m.\u001b[0m\u001b[0m_callable_fn\u001b[0m\u001b[0;34m(\u001b[0m\u001b[0;34m*\u001b[0m\u001b[0marray_vals\u001b[0m\u001b[0;34m,\u001b[0m \u001b[0mrun_metadata\u001b[0m\u001b[0;34m=\u001b[0m\u001b[0mself\u001b[0m\u001b[0;34m.\u001b[0m\u001b[0mrun_metadata\u001b[0m\u001b[0;34m)\u001b[0m\u001b[0;34m\u001b[0m\u001b[0;34m\u001b[0m\u001b[0m\n\u001b[1;32m   2936\u001b[0m         \u001b[0;32melse\u001b[0m\u001b[0;34m:\u001b[0m\u001b[0;34m\u001b[0m\u001b[0;34m\u001b[0m\u001b[0m\n\u001b[0;32m-> 2937\u001b[0;31m             \u001b[0mfetched\u001b[0m \u001b[0;34m=\u001b[0m \u001b[0mself\u001b[0m\u001b[0;34m.\u001b[0m\u001b[0m_callable_fn\u001b[0m\u001b[0;34m(\u001b[0m\u001b[0;34m*\u001b[0m\u001b[0marray_vals\u001b[0m\u001b[0;34m)\u001b[0m\u001b[0;34m\u001b[0m\u001b[0;34m\u001b[0m\u001b[0m\n\u001b[0m\u001b[1;32m   2938\u001b[0m         \u001b[0;32mreturn\u001b[0m \u001b[0mfetched\u001b[0m\u001b[0;34m[\u001b[0m\u001b[0;34m:\u001b[0m\u001b[0mlen\u001b[0m\u001b[0;34m(\u001b[0m\u001b[0mself\u001b[0m\u001b[0;34m.\u001b[0m\u001b[0moutputs\u001b[0m\u001b[0;34m)\u001b[0m\u001b[0;34m]\u001b[0m\u001b[0;34m\u001b[0m\u001b[0;34m\u001b[0m\u001b[0m\n\u001b[1;32m   2939\u001b[0m \u001b[0;34m\u001b[0m\u001b[0m\n",
            "\u001b[0;32m/usr/local/lib/python3.6/dist-packages/tensorflow/python/client/session.py\u001b[0m in \u001b[0;36m__call__\u001b[0;34m(self, *args, **kwargs)\u001b[0m\n\u001b[1;32m   1456\u001b[0m         ret = tf_session.TF_SessionRunCallable(self._session._session,\n\u001b[1;32m   1457\u001b[0m                                                \u001b[0mself\u001b[0m\u001b[0;34m.\u001b[0m\u001b[0m_handle\u001b[0m\u001b[0;34m,\u001b[0m \u001b[0margs\u001b[0m\u001b[0;34m,\u001b[0m\u001b[0;34m\u001b[0m\u001b[0;34m\u001b[0m\u001b[0m\n\u001b[0;32m-> 1458\u001b[0;31m                                                run_metadata_ptr)\n\u001b[0m\u001b[1;32m   1459\u001b[0m         \u001b[0;32mif\u001b[0m \u001b[0mrun_metadata\u001b[0m\u001b[0;34m:\u001b[0m\u001b[0;34m\u001b[0m\u001b[0;34m\u001b[0m\u001b[0m\n\u001b[1;32m   1460\u001b[0m           \u001b[0mproto_data\u001b[0m \u001b[0;34m=\u001b[0m \u001b[0mtf_session\u001b[0m\u001b[0;34m.\u001b[0m\u001b[0mTF_GetBuffer\u001b[0m\u001b[0;34m(\u001b[0m\u001b[0mrun_metadata_ptr\u001b[0m\u001b[0;34m)\u001b[0m\u001b[0;34m\u001b[0m\u001b[0;34m\u001b[0m\u001b[0m\n",
            "\u001b[0;31mKeyboardInterrupt\u001b[0m: "
          ]
        }
      ]
    },
    {
      "cell_type": "markdown",
      "metadata": {
        "id": "S0XAuVfgzhBy",
        "colab_type": "text"
      },
      "source": [
        "# Transfer Learning"
      ]
    },
    {
      "cell_type": "code",
      "metadata": {
        "id": "hz6xxSWSzpxf",
        "colab_type": "code",
        "colab": {}
      },
      "source": [
        "from keras.applications.vgg16 import VGG16\n",
        "from keras.layers import Dense, BatchNormalization, Dropout\n",
        "from keras.layers import GlobalAveragePooling2D\n",
        "from keras.models import Sequential"
      ],
      "execution_count": 0,
      "outputs": []
    },
    {
      "cell_type": "code",
      "metadata": {
        "id": "u1dMd569z6pp",
        "colab_type": "code",
        "colab": {}
      },
      "source": [
        "base_model = VGG16(include_top=False, weights='imagenet',input_shape=(224,224,3))"
      ],
      "execution_count": 0,
      "outputs": []
    },
    {
      "cell_type": "code",
      "metadata": {
        "id": "jJSL7GYx0dYX",
        "colab_type": "code",
        "outputId": "03ddcff9-05cf-489a-c4e4-5ad59ace5bc2",
        "colab": {
          "base_uri": "https://localhost:8080/",
          "height": 790
        }
      },
      "source": [
        "base_model.summary()"
      ],
      "execution_count": 0,
      "outputs": [
        {
          "output_type": "stream",
          "text": [
            "Model: \"vgg16\"\n",
            "_________________________________________________________________\n",
            "Layer (type)                 Output Shape              Param #   \n",
            "=================================================================\n",
            "input_6 (InputLayer)         (None, 224, 224, 3)       0         \n",
            "_________________________________________________________________\n",
            "block1_conv1 (Conv2D)        (None, 224, 224, 64)      1792      \n",
            "_________________________________________________________________\n",
            "block1_conv2 (Conv2D)        (None, 224, 224, 64)      36928     \n",
            "_________________________________________________________________\n",
            "block1_pool (MaxPooling2D)   (None, 112, 112, 64)      0         \n",
            "_________________________________________________________________\n",
            "block2_conv1 (Conv2D)        (None, 112, 112, 128)     73856     \n",
            "_________________________________________________________________\n",
            "block2_conv2 (Conv2D)        (None, 112, 112, 128)     147584    \n",
            "_________________________________________________________________\n",
            "block2_pool (MaxPooling2D)   (None, 56, 56, 128)       0         \n",
            "_________________________________________________________________\n",
            "block3_conv1 (Conv2D)        (None, 56, 56, 256)       295168    \n",
            "_________________________________________________________________\n",
            "block3_conv2 (Conv2D)        (None, 56, 56, 256)       590080    \n",
            "_________________________________________________________________\n",
            "block3_conv3 (Conv2D)        (None, 56, 56, 256)       590080    \n",
            "_________________________________________________________________\n",
            "block3_pool (MaxPooling2D)   (None, 28, 28, 256)       0         \n",
            "_________________________________________________________________\n",
            "block4_conv1 (Conv2D)        (None, 28, 28, 512)       1180160   \n",
            "_________________________________________________________________\n",
            "block4_conv2 (Conv2D)        (None, 28, 28, 512)       2359808   \n",
            "_________________________________________________________________\n",
            "block4_conv3 (Conv2D)        (None, 28, 28, 512)       2359808   \n",
            "_________________________________________________________________\n",
            "block4_pool (MaxPooling2D)   (None, 14, 14, 512)       0         \n",
            "_________________________________________________________________\n",
            "block5_conv1 (Conv2D)        (None, 14, 14, 512)       2359808   \n",
            "_________________________________________________________________\n",
            "block5_conv2 (Conv2D)        (None, 14, 14, 512)       2359808   \n",
            "_________________________________________________________________\n",
            "block5_conv3 (Conv2D)        (None, 14, 14, 512)       2359808   \n",
            "_________________________________________________________________\n",
            "block5_pool (MaxPooling2D)   (None, 7, 7, 512)         0         \n",
            "=================================================================\n",
            "Total params: 14,714,688\n",
            "Trainable params: 14,714,688\n",
            "Non-trainable params: 0\n",
            "_________________________________________________________________\n"
          ],
          "name": "stdout"
        }
      ]
    },
    {
      "cell_type": "code",
      "metadata": {
        "id": "jAZWTNYE0rY5",
        "colab_type": "code",
        "colab": {}
      },
      "source": [
        "def transfer_classifier(base):\n",
        "\n",
        "  model = Sequential()\n",
        "  model.add(base)\n",
        "  model.add(GlobalAveragePooling2D())\n",
        "  \n",
        "  model.add(Dense(128, activation='relu', kernel_initializer='glorot_uniform'))\n",
        "  model.add(BatchNormalization())\n",
        "  #odel.add(Dropout(0.5))\n",
        "\n",
        "\n",
        "  model.add(Dense(32, activation = 'softmax'))\n",
        "  return model"
      ],
      "execution_count": 0,
      "outputs": []
    },
    {
      "cell_type": "code",
      "metadata": {
        "id": "P1uZdupi1Elm",
        "colab_type": "code",
        "colab": {}
      },
      "source": [
        "cls = transfer_classifier(base_model)\n",
        "#cls.output_shape"
      ],
      "execution_count": 0,
      "outputs": []
    },
    {
      "cell_type": "code",
      "metadata": {
        "id": "vfNKHlnXXZaD",
        "colab_type": "code",
        "outputId": "d853de63-2d6a-4b9d-faba-59b3542ac315",
        "colab": {
          "base_uri": "https://localhost:8080/",
          "height": 420
        }
      },
      "source": [
        "for i,layer in enumerate(cls.layers[0].layers):\n",
        "  print(i,layer.name)\n",
        "for i,layer in enumerate(cls.layers):\n",
        "  print(i,layer.name)"
      ],
      "execution_count": 0,
      "outputs": [
        {
          "output_type": "stream",
          "text": [
            "0 input_6\n",
            "1 block1_conv1\n",
            "2 block1_conv2\n",
            "3 block1_pool\n",
            "4 block2_conv1\n",
            "5 block2_conv2\n",
            "6 block2_pool\n",
            "7 block3_conv1\n",
            "8 block3_conv2\n",
            "9 block3_conv3\n",
            "10 block3_pool\n",
            "11 block4_conv1\n",
            "12 block4_conv2\n",
            "13 block4_conv3\n",
            "14 block4_pool\n",
            "15 block5_conv1\n",
            "16 block5_conv2\n",
            "17 block5_conv3\n",
            "18 block5_pool\n",
            "0 vgg16\n",
            "1 global_average_pooling2d_5\n",
            "2 dense_14\n",
            "3 batch_normalization_9\n",
            "4 dense_15\n"
          ],
          "name": "stdout"
        }
      ]
    },
    {
      "cell_type": "code",
      "metadata": {
        "id": "SAmh71Vy1rCd",
        "colab_type": "code",
        "colab": {}
      },
      "source": [
        "for i,layer in enumerate(cls.layers[0].layers[:13]):\n",
        "  layer.trainable = False\n",
        "for i,layer in enumerate(cls.layers[0].layers[13:]):\n",
        "  layer.trainable = True\n",
        "for i,layer in enumerate(cls.layers[1:]):\n",
        "  layer.trainable = True"
      ],
      "execution_count": 0,
      "outputs": []
    },
    {
      "cell_type": "code",
      "metadata": {
        "id": "HnUe411CX_kv",
        "colab_type": "code",
        "colab": {}
      },
      "source": [
        "from keras.optimizers import RMSprop\n",
        "\n",
        "opt = RMSprop(lr = 0.0001)"
      ],
      "execution_count": 0,
      "outputs": []
    },
    {
      "cell_type": "code",
      "metadata": {
        "id": "v_V7GIwk2KZK",
        "colab_type": "code",
        "colab": {}
      },
      "source": [
        "cls.compile(loss = 'categorical_crossentropy', optimizer=opt , metrics=['accuracy'])"
      ],
      "execution_count": 0,
      "outputs": []
    },
    {
      "cell_type": "code",
      "metadata": {
        "id": "Bcerf7lb2Vnv",
        "colab_type": "code",
        "outputId": "f0e5977a-5e21-4308-b324-fb15a7ede4bf",
        "colab": {
          "base_uri": "https://localhost:8080/",
          "height": 454
        }
      },
      "source": [
        "cls.fit(X_train, y_train, epochs = 50, batch_size=16, validation_split=0.1)"
      ],
      "execution_count": 0,
      "outputs": [
        {
          "output_type": "stream",
          "text": [
            "Train on 6349 samples, validate on 706 samples\n",
            "Epoch 1/50\n",
            "6349/6349 [==============================] - 87s 14ms/step - loss: 2.6974e-04 - acc: 1.0000 - val_loss: 0.3171 - val_acc: 0.9363\n",
            "Epoch 2/50\n",
            "6349/6349 [==============================] - 87s 14ms/step - loss: 6.0656e-04 - acc: 0.9998 - val_loss: 0.2849 - val_acc: 0.9363\n",
            "Epoch 3/50\n",
            "6349/6349 [==============================] - 87s 14ms/step - loss: 2.9724e-04 - acc: 1.0000 - val_loss: 0.1921 - val_acc: 0.9603\n",
            "Epoch 4/50\n",
            " 128/6349 [..............................] - ETA: 1:18 - loss: 2.4851e-04 - acc: 1.0000"
          ],
          "name": "stdout"
        },
        {
          "output_type": "error",
          "ename": "KeyboardInterrupt",
          "evalue": "ignored",
          "traceback": [
            "\u001b[0;31m---------------------------------------------------------------------------\u001b[0m",
            "\u001b[0;31mKeyboardInterrupt\u001b[0m                         Traceback (most recent call last)",
            "\u001b[0;32m<ipython-input-200-08c7c00ec9ed>\u001b[0m in \u001b[0;36m<module>\u001b[0;34m()\u001b[0m\n\u001b[0;32m----> 1\u001b[0;31m \u001b[0mcls\u001b[0m\u001b[0;34m.\u001b[0m\u001b[0mfit\u001b[0m\u001b[0;34m(\u001b[0m\u001b[0mX_train\u001b[0m\u001b[0;34m,\u001b[0m \u001b[0my_train\u001b[0m\u001b[0;34m,\u001b[0m \u001b[0mepochs\u001b[0m \u001b[0;34m=\u001b[0m \u001b[0;36m50\u001b[0m\u001b[0;34m,\u001b[0m \u001b[0mbatch_size\u001b[0m\u001b[0;34m=\u001b[0m\u001b[0;36m16\u001b[0m\u001b[0;34m,\u001b[0m \u001b[0mvalidation_split\u001b[0m\u001b[0;34m=\u001b[0m\u001b[0;36m0.1\u001b[0m\u001b[0;34m)\u001b[0m\u001b[0;34m\u001b[0m\u001b[0;34m\u001b[0m\u001b[0m\n\u001b[0m",
            "\u001b[0;32m/usr/local/lib/python3.6/dist-packages/keras/engine/training.py\u001b[0m in \u001b[0;36mfit\u001b[0;34m(self, x, y, batch_size, epochs, verbose, callbacks, validation_split, validation_data, shuffle, class_weight, sample_weight, initial_epoch, steps_per_epoch, validation_steps, validation_freq, max_queue_size, workers, use_multiprocessing, **kwargs)\u001b[0m\n\u001b[1;32m   1176\u001b[0m                                         \u001b[0msteps_per_epoch\u001b[0m\u001b[0;34m=\u001b[0m\u001b[0msteps_per_epoch\u001b[0m\u001b[0;34m,\u001b[0m\u001b[0;34m\u001b[0m\u001b[0;34m\u001b[0m\u001b[0m\n\u001b[1;32m   1177\u001b[0m                                         \u001b[0mvalidation_steps\u001b[0m\u001b[0;34m=\u001b[0m\u001b[0mvalidation_steps\u001b[0m\u001b[0;34m,\u001b[0m\u001b[0;34m\u001b[0m\u001b[0;34m\u001b[0m\u001b[0m\n\u001b[0;32m-> 1178\u001b[0;31m                                         validation_freq=validation_freq)\n\u001b[0m\u001b[1;32m   1179\u001b[0m \u001b[0;34m\u001b[0m\u001b[0m\n\u001b[1;32m   1180\u001b[0m     def evaluate(self,\n",
            "\u001b[0;32m/usr/local/lib/python3.6/dist-packages/keras/engine/training_arrays.py\u001b[0m in \u001b[0;36mfit_loop\u001b[0;34m(model, fit_function, fit_inputs, out_labels, batch_size, epochs, verbose, callbacks, val_function, val_inputs, shuffle, callback_metrics, initial_epoch, steps_per_epoch, validation_steps, validation_freq)\u001b[0m\n\u001b[1;32m    202\u001b[0m                     \u001b[0mins_batch\u001b[0m\u001b[0;34m[\u001b[0m\u001b[0mi\u001b[0m\u001b[0;34m]\u001b[0m \u001b[0;34m=\u001b[0m \u001b[0mins_batch\u001b[0m\u001b[0;34m[\u001b[0m\u001b[0mi\u001b[0m\u001b[0;34m]\u001b[0m\u001b[0;34m.\u001b[0m\u001b[0mtoarray\u001b[0m\u001b[0;34m(\u001b[0m\u001b[0;34m)\u001b[0m\u001b[0;34m\u001b[0m\u001b[0;34m\u001b[0m\u001b[0m\n\u001b[1;32m    203\u001b[0m \u001b[0;34m\u001b[0m\u001b[0m\n\u001b[0;32m--> 204\u001b[0;31m                 \u001b[0mouts\u001b[0m \u001b[0;34m=\u001b[0m \u001b[0mfit_function\u001b[0m\u001b[0;34m(\u001b[0m\u001b[0mins_batch\u001b[0m\u001b[0;34m)\u001b[0m\u001b[0;34m\u001b[0m\u001b[0;34m\u001b[0m\u001b[0m\n\u001b[0m\u001b[1;32m    205\u001b[0m                 \u001b[0mouts\u001b[0m \u001b[0;34m=\u001b[0m \u001b[0mto_list\u001b[0m\u001b[0;34m(\u001b[0m\u001b[0mouts\u001b[0m\u001b[0;34m)\u001b[0m\u001b[0;34m\u001b[0m\u001b[0;34m\u001b[0m\u001b[0m\n\u001b[1;32m    206\u001b[0m                 \u001b[0;32mfor\u001b[0m \u001b[0ml\u001b[0m\u001b[0;34m,\u001b[0m \u001b[0mo\u001b[0m \u001b[0;32min\u001b[0m \u001b[0mzip\u001b[0m\u001b[0;34m(\u001b[0m\u001b[0mout_labels\u001b[0m\u001b[0;34m,\u001b[0m \u001b[0mouts\u001b[0m\u001b[0;34m)\u001b[0m\u001b[0;34m:\u001b[0m\u001b[0;34m\u001b[0m\u001b[0;34m\u001b[0m\u001b[0m\n",
            "\u001b[0;32m/usr/local/lib/python3.6/dist-packages/keras/backend/tensorflow_backend.py\u001b[0m in \u001b[0;36m__call__\u001b[0;34m(self, inputs)\u001b[0m\n\u001b[1;32m   2977\u001b[0m                     \u001b[0;32mreturn\u001b[0m \u001b[0mself\u001b[0m\u001b[0;34m.\u001b[0m\u001b[0m_legacy_call\u001b[0m\u001b[0;34m(\u001b[0m\u001b[0minputs\u001b[0m\u001b[0;34m)\u001b[0m\u001b[0;34m\u001b[0m\u001b[0;34m\u001b[0m\u001b[0m\n\u001b[1;32m   2978\u001b[0m \u001b[0;34m\u001b[0m\u001b[0m\n\u001b[0;32m-> 2979\u001b[0;31m             \u001b[0;32mreturn\u001b[0m \u001b[0mself\u001b[0m\u001b[0;34m.\u001b[0m\u001b[0m_call\u001b[0m\u001b[0;34m(\u001b[0m\u001b[0minputs\u001b[0m\u001b[0;34m)\u001b[0m\u001b[0;34m\u001b[0m\u001b[0;34m\u001b[0m\u001b[0m\n\u001b[0m\u001b[1;32m   2980\u001b[0m         \u001b[0;32melse\u001b[0m\u001b[0;34m:\u001b[0m\u001b[0;34m\u001b[0m\u001b[0;34m\u001b[0m\u001b[0m\n\u001b[1;32m   2981\u001b[0m             \u001b[0;32mif\u001b[0m \u001b[0mpy_any\u001b[0m\u001b[0;34m(\u001b[0m\u001b[0mis_tensor\u001b[0m\u001b[0;34m(\u001b[0m\u001b[0mx\u001b[0m\u001b[0;34m)\u001b[0m \u001b[0;32mfor\u001b[0m \u001b[0mx\u001b[0m \u001b[0;32min\u001b[0m \u001b[0minputs\u001b[0m\u001b[0;34m)\u001b[0m\u001b[0;34m:\u001b[0m\u001b[0;34m\u001b[0m\u001b[0;34m\u001b[0m\u001b[0m\n",
            "\u001b[0;32m/usr/local/lib/python3.6/dist-packages/keras/backend/tensorflow_backend.py\u001b[0m in \u001b[0;36m_call\u001b[0;34m(self, inputs)\u001b[0m\n\u001b[1;32m   2935\u001b[0m             \u001b[0mfetched\u001b[0m \u001b[0;34m=\u001b[0m \u001b[0mself\u001b[0m\u001b[0;34m.\u001b[0m\u001b[0m_callable_fn\u001b[0m\u001b[0;34m(\u001b[0m\u001b[0;34m*\u001b[0m\u001b[0marray_vals\u001b[0m\u001b[0;34m,\u001b[0m \u001b[0mrun_metadata\u001b[0m\u001b[0;34m=\u001b[0m\u001b[0mself\u001b[0m\u001b[0;34m.\u001b[0m\u001b[0mrun_metadata\u001b[0m\u001b[0;34m)\u001b[0m\u001b[0;34m\u001b[0m\u001b[0;34m\u001b[0m\u001b[0m\n\u001b[1;32m   2936\u001b[0m         \u001b[0;32melse\u001b[0m\u001b[0;34m:\u001b[0m\u001b[0;34m\u001b[0m\u001b[0;34m\u001b[0m\u001b[0m\n\u001b[0;32m-> 2937\u001b[0;31m             \u001b[0mfetched\u001b[0m \u001b[0;34m=\u001b[0m \u001b[0mself\u001b[0m\u001b[0;34m.\u001b[0m\u001b[0m_callable_fn\u001b[0m\u001b[0;34m(\u001b[0m\u001b[0;34m*\u001b[0m\u001b[0marray_vals\u001b[0m\u001b[0;34m)\u001b[0m\u001b[0;34m\u001b[0m\u001b[0;34m\u001b[0m\u001b[0m\n\u001b[0m\u001b[1;32m   2938\u001b[0m         \u001b[0;32mreturn\u001b[0m \u001b[0mfetched\u001b[0m\u001b[0;34m[\u001b[0m\u001b[0;34m:\u001b[0m\u001b[0mlen\u001b[0m\u001b[0;34m(\u001b[0m\u001b[0mself\u001b[0m\u001b[0;34m.\u001b[0m\u001b[0moutputs\u001b[0m\u001b[0;34m)\u001b[0m\u001b[0;34m]\u001b[0m\u001b[0;34m\u001b[0m\u001b[0;34m\u001b[0m\u001b[0m\n\u001b[1;32m   2939\u001b[0m \u001b[0;34m\u001b[0m\u001b[0m\n",
            "\u001b[0;32m/usr/local/lib/python3.6/dist-packages/tensorflow/python/client/session.py\u001b[0m in \u001b[0;36m__call__\u001b[0;34m(self, *args, **kwargs)\u001b[0m\n\u001b[1;32m   1456\u001b[0m         ret = tf_session.TF_SessionRunCallable(self._session._session,\n\u001b[1;32m   1457\u001b[0m                                                \u001b[0mself\u001b[0m\u001b[0;34m.\u001b[0m\u001b[0m_handle\u001b[0m\u001b[0;34m,\u001b[0m \u001b[0margs\u001b[0m\u001b[0;34m,\u001b[0m\u001b[0;34m\u001b[0m\u001b[0;34m\u001b[0m\u001b[0m\n\u001b[0;32m-> 1458\u001b[0;31m                                                run_metadata_ptr)\n\u001b[0m\u001b[1;32m   1459\u001b[0m         \u001b[0;32mif\u001b[0m \u001b[0mrun_metadata\u001b[0m\u001b[0;34m:\u001b[0m\u001b[0;34m\u001b[0m\u001b[0;34m\u001b[0m\u001b[0m\n\u001b[1;32m   1460\u001b[0m           \u001b[0mproto_data\u001b[0m \u001b[0;34m=\u001b[0m \u001b[0mtf_session\u001b[0m\u001b[0;34m.\u001b[0m\u001b[0mTF_GetBuffer\u001b[0m\u001b[0;34m(\u001b[0m\u001b[0mrun_metadata_ptr\u001b[0m\u001b[0;34m)\u001b[0m\u001b[0;34m\u001b[0m\u001b[0;34m\u001b[0m\u001b[0m\n",
            "\u001b[0;31mKeyboardInterrupt\u001b[0m: "
          ]
        }
      ]
    },
    {
      "cell_type": "code",
      "metadata": {
        "id": "PliLQbCA8hkF",
        "colab_type": "code",
        "outputId": "949bad75-5af9-415f-83bd-69cc197720a0",
        "colab": {
          "base_uri": "https://localhost:8080/",
          "height": 34
        }
      },
      "source": [
        " test_loss, test_accuracy = cls.evaluate(X_val, y_val)"
      ],
      "execution_count": 0,
      "outputs": [
        {
          "output_type": "stream",
          "text": [
            "1688/1688 [==============================] - 15s 9ms/step\n"
          ],
          "name": "stdout"
        }
      ]
    },
    {
      "cell_type": "code",
      "metadata": {
        "id": "32X8Ndc98vRP",
        "colab_type": "code",
        "outputId": "e135f7f4-0ff0-488e-c025-7c7a134b4862",
        "colab": {
          "base_uri": "https://localhost:8080/",
          "height": 50
        }
      },
      "source": [
        "print(\"Test Loss:{}\".format(test_loss))\n",
        "print(\"Test Accuracy:{}\".format(test_accuracy*100))"
      ],
      "execution_count": 0,
      "outputs": [
        {
          "output_type": "stream",
          "text": [
            "Test Loss:0.10456489874543821\n",
            "Test Accuracy:97.74881516587678\n"
          ],
          "name": "stdout"
        }
      ]
    },
    {
      "cell_type": "markdown",
      "metadata": {
        "id": "RYKF9uBqBzwn",
        "colab_type": "text"
      },
      "source": [
        "# TESTING "
      ]
    },
    {
      "cell_type": "code",
      "metadata": {
        "id": "XRR_-es7AEK8",
        "colab_type": "code",
        "colab": {}
      },
      "source": [
        "test_dir = \"/content/gdrive/My Drive/test\""
      ],
      "execution_count": 0,
      "outputs": []
    },
    {
      "cell_type": "code",
      "metadata": {
        "id": "-HDn6i6KapPb",
        "colab_type": "code",
        "colab": {}
      },
      "source": [
        "from keras.models import load_model\n",
        "test_model = load_model(\"/content/gdrive/My Drive/coin_classifier_256_vgg_v2.h5\")"
      ],
      "execution_count": 0,
      "outputs": []
    },
    {
      "cell_type": "code",
      "metadata": {
        "id": "Lwig9I6vBtSv",
        "colab_type": "code",
        "colab": {}
      },
      "source": [
        "def get_labels(predictions):\n",
        "  _ = []\n",
        "  for y in predictions:\n",
        "    idx = ((np.where(y == y.max()))[0][0])\n",
        "    _.append(reverse_label_dict[idx])\n",
        "\n",
        "  return _"
      ],
      "execution_count": 0,
      "outputs": []
    },
    {
      "cell_type": "code",
      "metadata": {
        "id": "21un5GfPAeXl",
        "colab_type": "code",
        "outputId": "7b6bc4c3-4edf-44a7-a714-eee0002c00ae",
        "colab": {
          "base_uri": "https://localhost:8080/",
          "height": 34
        }
      },
      "source": [
        "test_results = {}\n",
        "for img in tqdm(os.listdir(test_dir)):\n",
        "  id = img.split('.')[0]\n",
        "  img_path = os.path.join(test_dir,img)\n",
        "  \n",
        "  IMG = cv2.imread(img_path)\n",
        "  IMG = cv2.resize(IMG,(224,224))\n",
        "  IMG = np.array(IMG).astype('float32') / 255. \n",
        "  prediction = cls.predict(np.expand_dims(IMG, axis=0))\n",
        "  label = (get_labels(prediction))[0]\n",
        "  test_results[id] = label\n",
        "\n",
        "\n"
      ],
      "execution_count": 0,
      "outputs": [
        {
          "output_type": "stream",
          "text": [
            "100%|██████████| 1055/1055 [00:32<00:00, 32.96it/s]\n"
          ],
          "name": "stderr"
        }
      ]
    },
    {
      "cell_type": "code",
      "metadata": {
        "id": "plQznEbJA7Tw",
        "colab_type": "code",
        "colab": {}
      },
      "source": [
        "test_images_array = np.array(test_images)\n",
        "test_predictions = coin_classifier.predict(test_images_array)\n",
        "labels = get_labels(test_predictions)"
      ],
      "execution_count": 0,
      "outputs": []
    },
    {
      "cell_type": "code",
      "metadata": {
        "id": "Hk2dIMQnxe5_",
        "colab_type": "code",
        "outputId": "983eb8a9-c399-4ece-8737-1613589e85ce",
        "colab": {
          "base_uri": "https://localhost:8080/",
          "height": 34
        }
      },
      "source": [
        "test_results['1']"
      ],
      "execution_count": 0,
      "outputs": [
        {
          "output_type": "execute_result",
          "data": {
            "text/plain": [
              "'thailand'"
            ]
          },
          "metadata": {
            "tags": []
          },
          "execution_count": 62
        }
      ]
    },
    {
      "cell_type": "code",
      "metadata": {
        "id": "eVONtJWnCGuM",
        "colab_type": "code",
        "colab": {}
      },
      "source": [
        "idx2labels = {i+1:labels[i] for i in range(len(labels))}"
      ],
      "execution_count": 0,
      "outputs": []
    },
    {
      "cell_type": "code",
      "metadata": {
        "id": "FGISJWVWCdrN",
        "colab_type": "code",
        "colab": {}
      },
      "source": [
        "import csv\n",
        "with open('/content/gdrive/My Drive/output_12.csv','w') as f:\n",
        "  for key in test_results.keys():\n",
        "    f.write(\"%s,%s\\n\"%(key,test_results[key]))"
      ],
      "execution_count": 0,
      "outputs": []
    },
    {
      "cell_type": "code",
      "metadata": {
        "id": "z5-BA-74DR1a",
        "colab_type": "code",
        "colab": {}
      },
      "source": [
        "# saving the model\n",
        "cls.save(\"/content/gdrive/My Drive/coin_classifier_256_vgg_v5.h5\")"
      ],
      "execution_count": 0,
      "outputs": []
    },
    {
      "cell_type": "code",
      "metadata": {
        "id": "i-q3eoc-D57L",
        "colab_type": "code",
        "outputId": "c364fe74-11dc-4159-d3af-bf8abe0be944",
        "colab": {
          "base_uri": "https://localhost:8080/",
          "height": 34
        }
      },
      "source": [
        "test_results['']"
      ],
      "execution_count": 0,
      "outputs": [
        {
          "output_type": "execute_result",
          "data": {
            "text/plain": [
              "'thailand'"
            ]
          },
          "metadata": {
            "tags": []
          },
          "execution_count": 185
        }
      ]
    },
    {
      "cell_type": "code",
      "metadata": {
        "id": "KsL7A-ZCDwp5",
        "colab_type": "code",
        "colab": {}
      },
      "source": [
        ""
      ],
      "execution_count": 0,
      "outputs": []
    }
  ]
}